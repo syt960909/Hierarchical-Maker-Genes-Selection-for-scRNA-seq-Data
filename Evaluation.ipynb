{
 "cells": [
  {
   "cell_type": "markdown",
   "metadata": {},
   "source": [
    "#### This jupyter notebook is for the evaluation of our hierarchical marker gene selection approach, \n",
    "#### including UMAP visualization and classification"
   ]
  },
  {
   "cell_type": "code",
   "execution_count": 1,
   "metadata": {
    "pycharm": {
     "name": "#%%\n"
    }
   },
   "outputs": [],
   "source": [
    "import scanpy as sc\n",
    "import scipy.io\n",
    "import pandas as pd\n",
    "import numpy   as np\n",
    "import tensorflow as tf\n",
    "from sklearn.decomposition import TruncatedSVD\n",
    "import random\n",
    "import os\n",
    "from ismember import ismember\n",
    "import sys\n",
    "from collections import Counter  \n",
    "import seaborn as sns\n",
    "import matplotlib.pylab as plt\n",
    "from sklearn.neighbors import KNeighborsClassifier\n",
    "from sklearn.model_selection import train_test_split\n",
    "from sklearn import preprocessing\n",
    "from sklearn import manifold\n",
    "import umap  "
   ]
  },
  {
   "cell_type": "markdown",
   "metadata": {},
   "source": [
    "##### Load and preprocess the data (modify your path to the data)"
   ]
  },
  {
   "cell_type": "code",
   "execution_count": 2,
   "metadata": {
    "pycharm": {
     "name": "#%%\n"
    }
   },
   "outputs": [],
   "source": [
    "adata = sc.read_mtx('filtered_gene_bc_matrix\\\\matrix.mtx')\n",
    "barcode = pd.read_csv('filtered_gene_bc_matrix\\\\barcodes.tsv', sep='\\t',header=None)"
   ]
  },
  {
   "cell_type": "code",
   "execution_count": 68,
   "metadata": {
    "pycharm": {
     "name": "#%%\n"
    }
   },
   "outputs": [],
   "source": [
    "barcode = barcode[0]\n",
    "label = pd.read_csv('filtered_gene_bc_matrix\\\\clustering_result_from_seurat.tsv', sep='\\t',header=None)\n",
    "barcode_label = label[0]\n",
    "label = label[1]\n",
    "label[label==\"Mk\"]=\"Platelet\""
   ]
  },
  {
   "cell_type": "code",
   "execution_count": 4,
   "metadata": {
    "pycharm": {
     "name": "#%%\n"
    }
   },
   "outputs": [],
   "source": [
    "genes = pd.read_csv('Y:\\\\qiu-lab\\\\mapping_to_atlas\\\\datasets\\\\PBMC_10x_3K\\\\filtered_gene_bc_matrix\\\\genes.tsv',sep='\\t', header=None)\n",
    "genes = genes[1]"
   ]
  },
  {
   "cell_type": "code",
   "execution_count": 5,
   "metadata": {
    "pycharm": {
     "name": "#%%\n"
    }
   },
   "outputs": [],
   "source": [
    "adata = sc.AnnData(X=adata)\n",
    "adata.obs_names = genes\n",
    "adata.var_names = barcode"
   ]
  },
  {
   "cell_type": "code",
   "execution_count": 6,
   "metadata": {
    "pycharm": {
     "name": "#%%\n"
    }
   },
   "outputs": [],
   "source": [
    "barcode = pd.Index(barcode)\n",
    "barcode_label = pd.Index(barcode_label)\n",
    "test = barcode.intersection(barcode_label)\n",
    "adata = adata[:,test]"
   ]
  },
  {
   "cell_type": "code",
   "execution_count": 35,
   "metadata": {
    "pycharm": {
     "name": "#%%\n"
    }
   },
   "outputs": [],
   "source": [
    "adata.var_names = label\n",
    "adata_df = adata.to_df()"
   ]
  },
  {
   "cell_type": "code",
   "execution_count": 38,
   "metadata": {
    "pycharm": {
     "name": "#%%\n"
    }
   },
   "outputs": [],
   "source": [
    "adata_df_colsum = np.sum(adata_df)\n",
    "adata_df_norm = (adata_df/adata_df_colsum)*10000"
   ]
  },
  {
   "cell_type": "markdown",
   "metadata": {},
   "source": [
    "#### hierarchical structure constructed by our proposed approach implemented with R (pbmc_3k_hierarchy.R)"
   ]
  },
  {
   "cell_type": "code",
   "execution_count": 39,
   "metadata": {},
   "outputs": [],
   "source": [
    "hierarchical_signature_model=[[\"Naive CD4 T;Memory CD4 T;CD8 T;B;CD14+ Mono;DC;FCGR3A+ Mono;NK\",\"Platelet\"],\n",
    "                              [\"Naive CD4 T;Memory CD4 T;CD8 T;B;NK\",\"CD14+ Mono;DC;FCGR3A+ Mono\"],\n",
    "                              [\"Naive CD4 T;Memory CD4 T;CD8 T;B\",\"NK\"],\n",
    "                              [\"CD14+ Mono;FCGR3A+ Mono\",\"DC\"],\n",
    "                              [\"Naive CD4 T;Memory CD4 T;CD8 T\",\"B\"],\n",
    "                              [\"CD14+ Mono\",\"FCGR3A+ Mono\"],\n",
    "                              [\"Naive CD4 T;Memory CD4 T\",\"CD8 T\"],\n",
    "                              [\"Naive CD4 T\",\"Memory CD4 T\"]] "
   ]
  },
  {
   "cell_type": "markdown",
   "metadata": {},
   "source": [
    "#### Marker genes corresponding to each hierarchical level selected by Seurat FindAllMarkers function"
   ]
  },
  {
   "cell_type": "code",
   "execution_count": 40,
   "metadata": {},
   "outputs": [],
   "source": [
    "hierarchical_signature_genes=[[[\"MALAT1\",\"RPL14\",\"RPS24\",\"RPL9\",\"RPL7\",\"RPS27A\",\"RPSA\",\"RPS4Y1\",\"BTG1\",\"IL32\"],\n",
    "                         [\"GP9\",\"SPARC\",\"PF4\",\"GNG11\",\"SDPR\",\"CLU\",\"PPBP\",\"TUBB1\",\"CD9\",\"HIST1H2AC\"]],\n",
    "                             [[\"PTPRCAP\",\"LTB\",\"IL32\",\"CD3D\",\"CD3E\",\"CD7\",\"CTSW\",\"CST7\",\"CCL5\",\"NKG7\"],\n",
    "                         [\"S100A9\",\"S100A8\",\"LYZ\",\"CST3\",\"LST1\",\"TYROBP\",\"FCN1\",\"AIF1\",\"LGALS2\",\"FTL\"]],\n",
    "                              [[\"RPS12\",\"LTB\",\"RPL36A\",\"CD3D\",\"VIM\",\"IL7R\",\"CD27\",\"HLA-DRB1\",\"HLA-DPB1\",\"HLA-DRA\"],[\"GZMB\",\"FGFBP2\",\"SPON2\",\"FCGR3A\",\"PRF1\",\"GNLY\",\"FCER1G\",\"TYROBP\",\"CCL4\",\"NKG7\"]],\n",
    "                              [[\"FTL\",\"CFD\",\"S100A9\",\"S100A8\",\"FCN1\",\"SERPINA1\",\"CDA\",\"APOBEC3A\",\"CD14\",\"FCGR3A\"],[\"FCER1A\",\"CD1C\",\"CLEC10A\",\"HLA-DQA2\",\"HLA-DQA1\",\"HLA-DQB1\",\"CD74\",\"HLA-DPB1\",\"HLA-DRA\",\"HLA-DRB1\"]],\n",
    "                              [[\"CD3D\",\"IL32\",\"CD3E\",\"GIMAP7\",\"S100A4\",\"IL7R\",\"ANXA1\",\"CD2\",\"CCL5\",\"NKG7\"],[\"CD79A\",\"HLA-DQA1\",\"CD79B\",\"HLA-DQB1\",\"HLA-DRB1\",\"HLA-DRA\",\"HLA-DPA1\",\"HLA-DPB1\",\"TCL1A\",\"CD74\"]],\n",
    "                              [[\"LYZ\",\"S100A8\",\"S100A9\",\"LGALS2\",\"GPX1\",\"CD14\",\"MS4A6A\",\"FOLR3\",\"S100A12\",\"CCL3\"],[\"FCGR3A\",\"RHOC\",\"IFITM2\",\"CDKN1C\",\"ADA\",\"HES4\",\"MS4A7\",\"CD79B\",\"RP11-290F20.3\",\"ABI3\"]],\n",
    "                              [[\"LDHB\",\"LTB\",\"JUNB\",\"CCR7\",\"LEF1\",\"MAL\",\"NOSIP\",\"FYB\",\"PLP2\",\"SLC2A3\"],[\"NKG7\",\"CST7\",\"GZMA\",\"CCL5\",\"GZMH\",\"GZMK\",\"CCL4\",\"FGFBP2\",\"GZMB\",\"GNLY\"]],\n",
    "                              [[\"MALAT1\",\"RPL21\",\"RPS3A\",\"CCR7\",\"SELL\",\"C6orf48\",\"AIF1\",\"RSL1D1\",\"PRKCQ-AS1\",\"LEF1\"],[\"S100A4\",\"ANXA1\",\"S100A11\",\"ANXA2\",\"CLIC1\",\"LGALS1\",\"S100A10\",\"DOK2\",\"CORO1B\",\"ISG15\"]]]\n",
    "                              \n",
    "                              "
   ]
  },
  {
   "cell_type": "code",
   "execution_count": 41,
   "metadata": {},
   "outputs": [],
   "source": [
    "matlab_all_list = [\"Naive CD4 T\",\"CD14+ Mono\",\"Memory CD4 T\",\"B\",\"CD8 T\",\"FCGR3A+ Mono\",\"NK\",\"DC\",\"Platelet\"]"
   ]
  },
  {
   "cell_type": "markdown",
   "metadata": {},
   "source": [
    "#### Generate the data matrix behind compact hierarchical heatmap\n",
    "##### first generate a mask that cover up the cell subset not included in a specific lineage"
   ]
  },
  {
   "cell_type": "code",
   "execution_count": 73,
   "metadata": {},
   "outputs": [
    {
     "name": "stdout",
     "output_type": "stream",
     "text": [
      "0\n",
      "['Naive CD4 T', 'Memory CD4 T', 'CD8 T', 'B', 'CD14+ Mono', 'DC', 'FCGR3A+ Mono', 'NK', 'Platelet']\n",
      "['MALAT1', 'RPL14', 'RPS24', 'RPL9', 'RPL7', 'RPS27A', 'RPSA', 'RPS4Y1', 'BTG1', 'IL32', 'GP9', 'SPARC', 'PF4', 'GNG11', 'SDPR', 'CLU', 'PPBP', 'TUBB1', 'CD9', 'HIST1H2AC']\n",
      "(32738, 2638)\n",
      "1\n",
      "['Naive CD4 T', 'Memory CD4 T', 'CD8 T', 'B', 'NK', 'CD14+ Mono', 'DC', 'FCGR3A+ Mono']\n",
      "['PTPRCAP', 'LTB', 'IL32', 'CD3D', 'CD3E', 'CD7', 'CTSW', 'CST7', 'CCL5', 'NKG7', 'S100A9', 'S100A8', 'LYZ', 'CST3', 'LST1', 'TYROBP', 'FCN1', 'AIF1', 'LGALS2', 'FTL']\n",
      "(32738, 2638)\n",
      "2\n",
      "['Naive CD4 T', 'Memory CD4 T', 'CD8 T', 'B', 'NK']\n",
      "['RPS12', 'LTB', 'RPL36A', 'CD3D', 'VIM', 'IL7R', 'CD27', 'HLA-DRB1', 'HLA-DPB1', 'HLA-DRA', 'GZMB', 'FGFBP2', 'SPON2', 'FCGR3A', 'PRF1', 'GNLY', 'FCER1G', 'TYROBP', 'CCL4', 'NKG7']\n",
      "(32738, 2638)\n",
      "3\n",
      "['CD14+ Mono', 'FCGR3A+ Mono', 'DC']\n",
      "['FTL', 'CFD', 'S100A9', 'S100A8', 'FCN1', 'SERPINA1', 'CDA', 'APOBEC3A', 'CD14', 'FCGR3A', 'FCER1A', 'CD1C', 'CLEC10A', 'HLA-DQA2', 'HLA-DQA1', 'HLA-DQB1', 'CD74', 'HLA-DPB1', 'HLA-DRA', 'HLA-DRB1']\n",
      "(32738, 2638)\n",
      "4\n",
      "['Naive CD4 T', 'Memory CD4 T', 'CD8 T', 'B']\n",
      "['CD3D', 'IL32', 'CD3E', 'GIMAP7', 'S100A4', 'IL7R', 'ANXA1', 'CD2', 'CCL5', 'NKG7', 'CD79A', 'HLA-DQA1', 'CD79B', 'HLA-DQB1', 'HLA-DRB1', 'HLA-DRA', 'HLA-DPA1', 'HLA-DPB1', 'TCL1A', 'CD74']\n",
      "(32738, 2638)\n",
      "5\n",
      "['CD14+ Mono', 'FCGR3A+ Mono']\n",
      "['LYZ', 'S100A8', 'S100A9', 'LGALS2', 'GPX1', 'CD14', 'MS4A6A', 'FOLR3', 'S100A12', 'CCL3', 'FCGR3A', 'RHOC', 'IFITM2', 'CDKN1C', 'ADA', 'HES4', 'MS4A7', 'CD79B', 'RP11-290F20.3', 'ABI3']\n",
      "(32738, 2638)\n",
      "6\n",
      "['Naive CD4 T', 'Memory CD4 T', 'CD8 T']\n",
      "['LDHB', 'LTB', 'JUNB', 'CCR7', 'LEF1', 'MAL', 'NOSIP', 'FYB', 'PLP2', 'SLC2A3', 'NKG7', 'CST7', 'GZMA', 'CCL5', 'GZMH', 'GZMK', 'CCL4', 'FGFBP2', 'GZMB', 'GNLY']\n",
      "(32738, 2638)\n",
      "7\n",
      "['Naive CD4 T', 'Memory CD4 T']\n",
      "['MALAT1', 'RPL21', 'RPS3A', 'CCR7', 'SELL', 'C6orf48', 'AIF1', 'RSL1D1', 'PRKCQ-AS1', 'LEF1', 'S100A4', 'ANXA1', 'S100A11', 'ANXA2', 'CLIC1', 'LGALS1', 'S100A10', 'DOK2', 'CORO1B', 'ISG15']\n",
      "(32738, 2638)\n"
     ]
    }
   ],
   "source": [
    "adata_df_norm_ = np.log2(1+(adata_df/adata_df_colsum)*100000)\n",
    "adata_df_norm_ = (adata_df_norm_-adata_df_norm_.mean(axis=0))/adata_df_norm_.std(axis=0)\n",
    "adata_df_norm_mask = adata_df_norm_.copy()\n",
    "genes_vis=[]\n",
    "for i in range(len(hierarchical_signature_genes)):\n",
    "    cell_type = []\n",
    "    for j in range(len(hierarchical_signature_model[i])):\n",
    "        cell_type+=(hierarchical_signature_model[i][j].split(';'))\n",
    "    print(\"cell types in the lineage: \",cell_type) ####what cell types included in this level   \n",
    "    level_genes = []\n",
    "    for p in range(len(hierarchical_signature_genes[i])):###what sig genes included in this level\n",
    "        level_genes+=hierarchical_signature_genes[i][p]#[:20]\n",
    "    print(\"corresponding marker genes: \",level_genes)\n",
    "    genes_vis+=level_genes    \n",
    "    adata_df_norm_mask.loc[adata_df_norm.index.isin(level_genes),list(set(matlab_all_list)-set(cell_type))]=np.nan\n",
    "    "
   ]
  },
  {
   "cell_type": "markdown",
   "metadata": {},
   "source": [
    "#### re-order the cells based on cell types"
   ]
  },
  {
   "cell_type": "code",
   "execution_count": 111,
   "metadata": {},
   "outputs": [],
   "source": [
    "cat_order = [\"Naive CD4 T\",\"Memory CD4 T\",\"CD8 T\",\"B\",\"NK\",\"CD14+ Mono\",\"FCGR3A+ Mono\",\"DC\",\"Platelet\"]\n",
    "df0 = adata_df_norm_mask[cat_order[0]]\n",
    "df1 = adata_df_norm_mask[cat_order[1]]\n",
    "df2 = adata_df_norm_mask[cat_order[2]]\n",
    "df3 = adata_df_norm_mask[cat_order[3]]\n",
    "df4 = adata_df_norm_mask[cat_order[4]]\n",
    "df5 = adata_df_norm_mask[cat_order[5]]\n",
    "df6 = adata_df_norm_mask[cat_order[6]]\n",
    "df7 = adata_df_norm_mask[cat_order[7]]\n",
    "df8 = adata_df_norm_mask[cat_order[8]]"
   ]
  },
  {
   "cell_type": "markdown",
   "metadata": {},
   "source": [
    "#### generate the data matrix"
   ]
  },
  {
   "cell_type": "code",
   "execution_count": 112,
   "metadata": {
    "pycharm": {
     "name": "#%%\n"
    }
   },
   "outputs": [
    {
     "name": "stdout",
     "output_type": "stream",
     "text": [
      "0\n",
      "0\n",
      "['Naive CD4 T', 'Memory CD4 T', 'CD8 T', 'B', 'CD14+ Mono', 'DC', 'FCGR3A+ Mono', 'NK', 'Platelet']\n",
      "['MALAT1', 'RPL14', 'RPS24', 'RPL9', 'RPL7', 'RPS27A', 'RPSA', 'RPS4Y1', 'BTG1', 'IL32', 'GP9', 'SPARC', 'PF4', 'GNG11', 'SDPR', 'CLU', 'PPBP', 'TUBB1', 'CD9', 'HIST1H2AC']\n",
      "1\n",
      "20\n",
      "['Naive CD4 T', 'Memory CD4 T', 'CD8 T', 'B', 'NK', 'CD14+ Mono', 'DC', 'FCGR3A+ Mono']\n",
      "['PTPRCAP', 'LTB', 'IL32', 'CD3D', 'CD3E', 'CD7', 'CTSW', 'CST7', 'CCL5', 'NKG7', 'S100A9', 'S100A8', 'LYZ', 'CST3', 'LST1', 'TYROBP', 'FCN1', 'AIF1', 'LGALS2', 'FTL']\n",
      "2\n",
      "40\n",
      "['Naive CD4 T', 'Memory CD4 T', 'CD8 T', 'B', 'NK']\n",
      "['RPS12', 'LTB', 'RPL36A', 'CD3D', 'VIM', 'IL7R', 'CD27', 'HLA-DRB1', 'HLA-DPB1', 'HLA-DRA', 'GZMB', 'FGFBP2', 'SPON2', 'FCGR3A', 'PRF1', 'GNLY', 'FCER1G', 'TYROBP', 'CCL4', 'NKG7']\n",
      "3\n",
      "60\n",
      "['CD14+ Mono', 'FCGR3A+ Mono', 'DC']\n",
      "['FTL', 'CFD', 'S100A9', 'S100A8', 'FCN1', 'SERPINA1', 'CDA', 'APOBEC3A', 'CD14', 'FCGR3A', 'FCER1A', 'CD1C', 'CLEC10A', 'HLA-DQA2', 'HLA-DQA1', 'HLA-DQB1', 'CD74', 'HLA-DPB1', 'HLA-DRA', 'HLA-DRB1']\n",
      "4\n",
      "80\n",
      "['Naive CD4 T', 'Memory CD4 T', 'CD8 T', 'B']\n",
      "['CD3D', 'IL32', 'CD3E', 'GIMAP7', 'S100A4', 'IL7R', 'ANXA1', 'CD2', 'CCL5', 'NKG7', 'CD79A', 'HLA-DQA1', 'CD79B', 'HLA-DQB1', 'HLA-DRB1', 'HLA-DRA', 'HLA-DPA1', 'HLA-DPB1', 'TCL1A', 'CD74']\n",
      "5\n",
      "100\n",
      "['CD14+ Mono', 'FCGR3A+ Mono']\n",
      "['LYZ', 'S100A8', 'S100A9', 'LGALS2', 'GPX1', 'CD14', 'MS4A6A', 'FOLR3', 'S100A12', 'CCL3', 'FCGR3A', 'RHOC', 'IFITM2', 'CDKN1C', 'ADA', 'HES4', 'MS4A7', 'CD79B', 'RP11-290F20.3', 'ABI3']\n",
      "6\n",
      "120\n",
      "['Naive CD4 T', 'Memory CD4 T', 'CD8 T']\n",
      "['LDHB', 'LTB', 'JUNB', 'CCR7', 'LEF1', 'MAL', 'NOSIP', 'FYB', 'PLP2', 'SLC2A3', 'NKG7', 'CST7', 'GZMA', 'CCL5', 'GZMH', 'GZMK', 'CCL4', 'FGFBP2', 'GZMB', 'GNLY']\n",
      "7\n",
      "140\n",
      "['Naive CD4 T', 'Memory CD4 T']\n",
      "['MALAT1', 'RPL21', 'RPS3A', 'CCR7', 'SELL', 'C6orf48', 'AIF1', 'RSL1D1', 'PRKCQ-AS1', 'LEF1', 'S100A4', 'ANXA1', 'S100A11', 'ANXA2', 'CLIC1', 'LGALS1', 'S100A10', 'DOK2', 'CORO1B', 'ISG15']\n"
     ]
    }
   ],
   "source": [
    "frames = [df0, df1, df2,df3,df4,df5,df6,df7,df8]\n",
    "\n",
    "\n",
    "result = pd.concat(frames,axis=1)\n",
    "\n",
    "hierachical_heatmap = pd.DataFrame(index=genes_vis,columns=list(result.columns))\n",
    "count = 0\n",
    "for i in range(len(hierarchical_signature_model)):\n",
    "    cell_type = []\n",
    "    for j in range(len(hierarchical_signature_model[i])):\n",
    "        cell_type+=(hierarchical_signature_model[i][j].split(';'))    \n",
    "    level_genes = []\n",
    "    for p in range(len(hierarchical_signature_genes[i])):\n",
    "        level_genes+=hierarchical_signature_genes[i][p]#[:10]  \n",
    "    for q in range(len(level_genes)):\n",
    "        hierachical_heatmap.iloc[count+q][list(set(cell_type))]=result.loc[result.index.isin([level_genes[q]]),list(set(cell_type))].squeeze()\n",
    "    count = count+len(level_genes)\n",
    "hie_mask = hierachical_heatmap.isna()\n",
    "hierachical_heatmap = hierachical_heatmap.fillna(0)"
   ]
  },
  {
   "cell_type": "markdown",
   "metadata": {},
   "source": [
    "#### classification\n",
    "#### initialize a knn classifier"
   ]
  },
  {
   "cell_type": "code",
   "execution_count": 96,
   "metadata": {},
   "outputs": [],
   "source": [
    "clf=KNeighborsClassifier() "
   ]
  },
  {
   "cell_type": "markdown",
   "metadata": {},
   "source": [
    "#### split the data:  70% of training and 30% for testing"
   ]
  },
  {
   "cell_type": "code",
   "execution_count": 97,
   "metadata": {},
   "outputs": [],
   "source": [
    "y_test = hierachical_heatmap.columns\n",
    "X_train, X_test, y_train, y_test = train_test_split(hierachical_heatmap.T,y_test,test_size = 0.3, random_state = 42)"
   ]
  },
  {
   "cell_type": "markdown",
   "metadata": {},
   "source": [
    "#### Train and test the classifier"
   ]
  },
  {
   "cell_type": "code",
   "execution_count": 98,
   "metadata": {
    "scrolled": true
   },
   "outputs": [
    {
     "data": {
      "text/plain": [
       "KNeighborsClassifier()"
      ]
     },
     "execution_count": 98,
     "metadata": {},
     "output_type": "execute_result"
    }
   ],
   "source": [
    "clf.fit(X_train, y_train)"
   ]
  },
  {
   "cell_type": "code",
   "execution_count": 100,
   "metadata": {},
   "outputs": [
    {
     "data": {
      "text/plain": [
       "0.8926767676767676"
      ]
     },
     "execution_count": 100,
     "metadata": {},
     "output_type": "execute_result"
    }
   ],
   "source": [
    "clf.score(X_test,y_test)"
   ]
  },
  {
   "cell_type": "markdown",
   "metadata": {},
   "source": [
    "#### Check the classification accuracy for each cell type\n"
   ]
  },
  {
   "cell_type": "code",
   "execution_count": 110,
   "metadata": {},
   "outputs": [
    {
     "data": {
      "text/plain": [
       "1.0"
      ]
     },
     "execution_count": 110,
     "metadata": {},
     "output_type": "execute_result"
    }
   ],
   "source": [
    "i='Platelet'\n",
    "tmp = np.array(X_test)[y_test==i]\n",
    "clf_pred = clf.predict(tmp)\n",
    "np.sum(clf_pred==i)/np.array(X_test)[y_test==i].shape[0]"
   ]
  },
  {
   "cell_type": "markdown",
   "metadata": {},
   "source": [
    "#### UMAP visualization"
   ]
  },
  {
   "cell_type": "code",
   "execution_count": 91,
   "metadata": {},
   "outputs": [],
   "source": [
    "# label_encoder object knows how to understand word labels.\n",
    "label_encoder = preprocessing.LabelEncoder()"
   ]
  },
  {
   "cell_type": "code",
   "execution_count": 92,
   "metadata": {},
   "outputs": [],
   "source": [
    "y_test = np.array(label_encoder.fit_transform(hierachical_heatmap.columns),dtype='uint8')"
   ]
  },
  {
   "cell_type": "code",
   "execution_count": 93,
   "metadata": {},
   "outputs": [
    {
     "name": "stdout",
     "output_type": "stream",
     "text": [
      "(2638, 2)\n"
     ]
    },
    {
     "data": {
      "image/png": "[encoded data removed]",
      "text/plain": [
       "<Figure size 1080x1080 with 1 Axes>"
      ]
     },
     "metadata": {
      "needs_background": "light"
     },
     "output_type": "display_data"
    }
   ],
   "source": [
    "reducer = umap.UMAP(random_state=42)\n",
    "embedding = reducer.fit_transform(hierachical_heatmap.T)\n",
    "print(embedding.shape)\n",
    "x_min, x_max = embedding.min(0), embedding.max(0)\n",
    "X_norm = (embedding - x_min) / (x_max - x_min)  # 归一化\n",
    "plt.figure(figsize=(15, 15))\n",
    "plt.scatter(X_norm[:, 0], X_norm[:, 1], c=y_test)\n",
    "\n",
    "plt.show()"
   ]
  },
  {
   "cell_type": "code",
   "execution_count": null,
   "metadata": {},
   "outputs": [],
   "source": []
  }
 ],
 "metadata": {
  "kernelspec": {
   "display_name": "Python 3",
   "language": "python",
   "name": "python3"
  },
  "language_info": {
   "codemirror_mode": {
    "name": "ipython",
    "version": 3
   },
   "file_extension": ".py",
   "mimetype": "text/x-python",
   "name": "python",
   "nbconvert_exporter": "python",
   "pygments_lexer": "ipython3",
   "version": "3.6.2"
  }
 },
 "nbformat": 4,
 "nbformat_minor": 1
}
